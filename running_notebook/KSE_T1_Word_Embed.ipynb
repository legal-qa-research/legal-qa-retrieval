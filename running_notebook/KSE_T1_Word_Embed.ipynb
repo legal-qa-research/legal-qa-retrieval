{
 "cells": [
  {
   "cell_type": "code",
   "execution_count": null,
   "metadata": {
    "id": "SJ3NaktfT4RU",
    "pycharm": {
     "name": "#%%\n"
    }
   },
   "outputs": [],
   "source": [
    "train_data_path = '/content/drive/Shareddrives/UnlimitedSharedDrive/KSE-Task1-Word-embed/data_features/train_data_vnlaw_kse_jac_tfidf.npy'\n",
    "test_data_path = '/content/drive/Shareddrives/UnlimitedSharedDrive/KSE-Task1-Word-embed/data_features/test_data_vnlaw_kse_jac_tfidf.npy'"
   ]
  },
  {
   "cell_type": "markdown",
   "metadata": {
    "id": "EaeApi86vnAZ",
    "pycharm": {
     "name": "#%% md\n"
    }
   },
   "source": [
    "# Load Feature-Extracted Data"
   ]
  },
  {
   "cell_type": "code",
   "execution_count": null,
   "metadata": {
    "id": "5zrjg9PCUURf",
    "pycharm": {
     "name": "#%%\n"
    }
   },
   "outputs": [],
   "source": [
    "import numpy as np\n",
    "train_data = np.load(train_data_path)\n",
    "test_data = np.load(test_data_path)"
   ]
  },
  {
   "cell_type": "code",
   "execution_count": null,
   "metadata": {
    "colab": {
     "base_uri": "https://localhost:8080/"
    },
    "id": "dClucjRLU8Z4",
    "outputId": "d197fb5d-10b2-4824-df28-cf1b7dc38fe4",
    "pycharm": {
     "name": "#%%\n"
    }
   },
   "outputs": [
    {
     "data": {
      "text/plain": [
       "(16457, 203)"
      ]
     },
     "execution_count": 50,
     "metadata": {},
     "output_type": "execute_result"
    }
   ],
   "source": [
    "train_data.shape"
   ]
  },
  {
   "cell_type": "code",
   "execution_count": null,
   "metadata": {
    "id": "nHZBoNdiUkYP",
    "pycharm": {
     "name": "#%%\n"
    }
   },
   "outputs": [],
   "source": [
    "from sklearn.model_selection import train_test_split\n",
    "X = train_data[:, :-1]\n",
    "y = train_data[:, -1]\n",
    "X_train, X_val, y_train, y_val = train_test_split(X, y, test_size=0.2, random_state=42)"
   ]
  },
  {
   "cell_type": "markdown",
   "metadata": {
    "id": "oVwwvtu2vpWC",
    "pycharm": {
     "name": "#%% md\n"
    }
   },
   "source": [
    "# Model Training"
   ]
  },
  {
   "cell_type": "code",
   "execution_count": null,
   "metadata": {
    "colab": {
     "base_uri": "https://localhost:8080/"
    },
    "id": "095vVpZuUpNN",
    "outputId": "d50ae6c5-ecef-4403-eff2-b2248ebd846d",
    "pycharm": {
     "name": "#%%\n"
    }
   },
   "outputs": [
    {
     "name": "stdout",
     "output_type": "stream",
     "text": [
      "[0]\tvalidation_0-auc:0.872019\n",
      "Will train until validation_0-auc hasn't improved in 300 rounds.\n",
      "[100]\tvalidation_0-auc:0.943189\n",
      "[200]\tvalidation_0-auc:0.955178\n",
      "[300]\tvalidation_0-auc:0.954772\n",
      "[400]\tvalidation_0-auc:0.956533\n",
      "[500]\tvalidation_0-auc:0.957213\n",
      "[600]\tvalidation_0-auc:0.956943\n",
      "Stopping. Best iteration:\n",
      "[333]\tvalidation_0-auc:0.958058\n",
      "\n"
     ]
    }
   ],
   "source": [
    "from sklearn.model_selection import GroupKFold\n",
    "import xgboost as xgb\n",
    "\n",
    "skf = GroupKFold(n_splits=6)\n",
    "clf = xgb.XGBClassifier(\n",
    "    n_estimators=15000,\n",
    "    max_depth=128,\n",
    "    learning_rate=0.02,\n",
    "    subsample=1,\n",
    "    colsample_bytree=1,\n",
    "    missing=-1,\n",
    "    eval_metric='auc',\n",
    "    # USE CPU\n",
    "    nthread=4,\n",
    "    tree_method='hist'\n",
    "    # USE GPU\n",
    "#   tree_method='gpu_hist' \n",
    ")\n",
    "\n",
    "h = clf.fit(X_train, y_train, \n",
    "        eval_set=[(X_val,y_val)],\n",
    "        verbose=100, early_stopping_rounds=300)"
   ]
  },
  {
   "cell_type": "markdown",
   "metadata": {
    "id": "lu0_skPBvrJT",
    "pycharm": {
     "name": "#%% md\n"
    }
   },
   "source": [
    "# Test on test set"
   ]
  },
  {
   "cell_type": "code",
   "execution_count": null,
   "metadata": {
    "id": "4mz8bFdWVEAR",
    "pycharm": {
     "name": "#%%\n"
    }
   },
   "outputs": [],
   "source": [
    "X_test = test_data[:, :-1]\n",
    "y_test = test_data[:, -1]"
   ]
  },
  {
   "cell_type": "code",
   "execution_count": null,
   "metadata": {
    "id": "ExEbC9il3HIW",
    "pycharm": {
     "name": "#%%\n"
    }
   },
   "outputs": [],
   "source": [
    "y_prob = h.predict_proba(X_test)"
   ]
  },
  {
   "cell_type": "code",
   "execution_count": null,
   "metadata": {
    "id": "lPwT6Jqg3VtA",
    "pycharm": {
     "name": "#%%\n"
    }
   },
   "outputs": [],
   "source": [
    "np.save('result_test_set.npy', y_prob)"
   ]
  },
  {
   "cell_type": "code",
   "execution_count": null,
   "metadata": {
    "colab": {
     "base_uri": "https://localhost:8080/"
    },
    "id": "5dR0QblP40e6",
    "outputId": "0209295f-e7ed-45fa-98fa-aeef2e8092c0",
    "pycharm": {
     "name": "#%%\n"
    }
   },
   "outputs": [
    {
     "data": {
      "text/plain": [
       "(4150, 2)"
      ]
     },
     "execution_count": 56,
     "metadata": {},
     "output_type": "execute_result"
    }
   ],
   "source": [
    "y_prob.shape"
   ]
  },
  {
   "cell_type": "markdown",
   "metadata": {
    "id": "X2XVv46mvtGJ",
    "pycharm": {
     "name": "#%% md\n"
    }
   },
   "source": [
    "# Infer private test"
   ]
  },
  {
   "cell_type": "code",
   "execution_count": null,
   "metadata": {
    "id": "OlqzPGBdvvDo",
    "pycharm": {
     "name": "#%%\n"
    }
   },
   "outputs": [],
   "source": [
    "# Load saved model\n",
    "import pickle\n",
    "pickle.dump(h, open('xgb_model.pkl', 'wb'))"
   ]
  },
  {
   "cell_type": "code",
   "execution_count": null,
   "metadata": {
    "colab": {
     "base_uri": "https://localhost:8080/"
    },
    "id": "UH2l_oV4_C2L",
    "outputId": "2b233575-c2d3-42db-9a0f-cab620defaa6",
    "pycharm": {
     "name": "#%%\n"
    }
   },
   "outputs": [
    {
     "name": "stdout",
     "output_type": "stream",
     "text": [
      "Cloning into 'legal-qa-retrieval'...\n",
      "remote: Enumerating objects: 591, done.\u001B[K\n",
      "remote: Counting objects: 100% (65/65), done.\u001B[K\n",
      "remote: Compressing objects: 100% (48/48), done.\u001B[K\n",
      "remote: Total 591 (delta 21), reused 45 (delta 16), pack-reused 526\u001B[K\n",
      "Receiving objects: 100% (591/591), 92.66 KiB | 797.00 KiB/s, done.\n",
      "Resolving deltas: 100% (372/372), done.\n"
     ]
    }
   ],
   "source": [
    "!git clone https://github.com/legal-qa-research/legal-qa-retrieval.git"
   ]
  },
  {
   "cell_type": "code",
   "execution_count": null,
   "metadata": {
    "colab": {
     "base_uri": "https://localhost:8080/"
    },
    "id": "SojnGppm_T8Y",
    "outputId": "d24c464e-87b9-4626-c830-ad920217b93e",
    "pycharm": {
     "name": "#%%\n"
    }
   },
   "outputs": [
    {
     "name": "stdout",
     "output_type": "stream",
     "text": [
      "/content/legal-qa-retrieval\n",
      "Branch 'kse-support' set up to track remote branch 'kse-support' from 'origin'.\n",
      "Switched to a new branch 'kse-support'\n"
     ]
    }
   ],
   "source": [
    "%cd /content/legal-qa-retrieval/\n",
    "!git checkout kse-support"
   ]
  },
  {
   "cell_type": "code",
   "execution_count": null,
   "metadata": {
    "colab": {
     "base_uri": "https://localhost:8080/"
    },
    "id": "TXRil9iHBuFh",
    "outputId": "f8e59c12-d4ba-45eb-ed65-8cec27e6f9e4",
    "pycharm": {
     "name": "#%%\n"
    }
   },
   "outputs": [
    {
     "name": "stdout",
     "output_type": "stream",
     "text": [
      "/content/legal-qa-retrieval\n",
      "HEAD is now at e21a733 not require args\n",
      "remote: Enumerating objects: 7, done.\u001B[K\n",
      "remote: Counting objects: 100% (7/7), done.\u001B[K\n",
      "remote: Compressing objects: 100% (1/1), done.\u001B[K\n",
      "remote: Total 4 (delta 3), reused 4 (delta 3), pack-reused 0\u001B[K\n",
      "Unpacking objects: 100% (4/4), done.\n",
      "From https://github.com/legal-qa-research/legal-qa-retrieval\n",
      " * branch            kse-support -> FETCH_HEAD\n",
      "   e21a733..4f49db8  kse-support -> origin/kse-support\n",
      "Updating e21a733..4f49db8\n",
      "Fast-forward\n",
      " traditional_ml/constant.py | 4 \u001B[32m++\u001B[m\u001B[31m--\u001B[m\n",
      " 1 file changed, 2 insertions(+), 2 deletions(-)\n"
     ]
    }
   ],
   "source": [
    "%cd /content/legal-qa-retrieval/\n",
    "!git add .\n",
    "!git reset --hard\n",
    "!git pull origin kse-support"
   ]
  },
  {
   "cell_type": "code",
   "execution_count": null,
   "metadata": {
    "id": "EzsRIi7n_gX2",
    "pycharm": {
     "name": "#%%\n"
    }
   },
   "outputs": [],
   "source": [
    "%%capture\n",
    "!pip3 install fasttext\n",
    "!pip3 install vncorenlp\n",
    "!pip3 install sentence_transformers\n",
    "!pip3 install scipy"
   ]
  },
  {
   "cell_type": "code",
   "execution_count": null,
   "metadata": {
    "id": "yM26sgO9_WMz",
    "pycharm": {
     "name": "#%%\n"
    }
   },
   "outputs": [],
   "source": [
    "import os\n",
    "os.environ['PYTHONPATH'] += \":/content/legal-qa-retrieval\""
   ]
  },
  {
   "cell_type": "code",
   "execution_count": null,
   "metadata": {
    "id": "aXzPOkjsA_ET",
    "pycharm": {
     "name": "#%%\n"
    }
   },
   "outputs": [],
   "source": [
    "! cp /content/drive/Shareddrives/UnlimitedSharedDrive/legal-qa-retrieval/pkl_file/* /content/legal-qa-retrieval/pkl_file/\n",
    "! cp /content/drive/Shareddrives/UnlimitedSharedDrive/legal-qa-retrieval/data/* /content/legal-qa-retrieval/data\n",
    "! cp /content/drive/Shareddrives/UnlimitedSharedDrive/pretrained_fastext/vnlaw_ft.bin /content/legal-qa-retrieval/traditional_ml/pretrained_fasttext"
   ]
  },
  {
   "cell_type": "code",
   "execution_count": null,
   "metadata": {
    "colab": {
     "background_save": true,
     "base_uri": "https://localhost:8080/"
    },
    "id": "2ZfA0MXG-CN2",
    "outputId": "3065ecc4-4227-4217-b792-e158cf9f1287",
    "pycharm": {
     "name": "#%%\n"
    }
   },
   "outputs": [
    {
     "name": "stdout",
     "output_type": "stream",
     "text": [
      "/content/legal-qa-retrieval\n",
      "Warning : `load_model` does not return WordVectorModel or SupervisedModel any more, but a `FastText` object which is very similar.\n",
      "Building Features: 100% 8800/8800 [11:09<00:00, 13.15it/s]\n",
      "Predicting ... \n",
      "Predict done, start record result\n"
     ]
    }
   ],
   "source": [
    "# Run Feature-builder and infer test set\n",
    "%cd /content/legal-qa-retrieval/\n",
    "!python /content/legal-qa-retrieval/traditional_ml/infer_private_test.py --infer_threshold 0.06 --infer_top_k=1"
   ]
  },
  {
   "cell_type": "code",
   "execution_count": null,
   "metadata": {
    "id": "190AAZW8GncI",
    "pycharm": {
     "name": "#%%\n"
    }
   },
   "outputs": [],
   "source": []
  }
 ],
 "metadata": {
  "colab": {
   "collapsed_sections": [],
   "name": "KSE_T1_Word-Embed.ipynb",
   "provenance": []
  },
  "kernelspec": {
   "display_name": "Python 3",
   "name": "python3"
  },
  "language_info": {
   "name": "python"
  }
 },
 "nbformat": 4,
 "nbformat_minor": 0
}